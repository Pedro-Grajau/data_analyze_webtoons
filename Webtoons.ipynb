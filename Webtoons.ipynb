{
  "nbformat": 4,
  "nbformat_minor": 0,
  "metadata": {
    "colab": {
      "name": "Webtoons.ipynb",
      "provenance": [],
      "collapsed_sections": [],
      "include_colab_link": true
    },
    "kernelspec": {
      "name": "python3",
      "display_name": "Python 3"
    },
    "language_info": {
      "name": "python"
    }
  },
  "cells": [
    {
      "cell_type": "markdown",
      "metadata": {
        "id": "view-in-github",
        "colab_type": "text"
      },
      "source": [
        "<a href=\"https://colab.research.google.com/github/Pedro-Grajau/data_analyze_webtoons/blob/main/Webtoons.ipynb\" target=\"_parent\"><img src=\"https://colab.research.google.com/assets/colab-badge.svg\" alt=\"Open In Colab\"/></a>"
      ]
    },
    {
      "cell_type": "markdown",
      "metadata": {
        "id": "85QLGagt2nJk"
      },
      "source": [
        "\n",
        "\n",
        "*   **Realizando a instalação de dependências necessárias**\n",
        "\n"
      ]
    },
    {
      "cell_type": "code",
      "metadata": {
        "id": "3qVBE6Yv2Vhw"
      },
      "source": [
        "!pip install kora -q"
      ],
      "execution_count": 1,
      "outputs": []
    },
    {
      "cell_type": "markdown",
      "metadata": {
        "id": "L_WAoEQb1GwK"
      },
      "source": [
        "* **Importando a lista de autores de Webtoons em txt**"
      ]
    },
    {
      "cell_type": "code",
      "metadata": {
        "id": "hZfSKxXY1BSs"
      },
      "source": [
        "from kora.selenium import wd\n",
        "import csv\n",
        "autores_txt = open(\"autores_webtoons.txt\", \"r\")\n",
        "autores_webtoons = [x.strip() for x in autores_txt.readlines()]\n",
        "#print(autores_webtoons)"
      ],
      "execution_count": 2,
      "outputs": []
    },
    {
      "cell_type": "markdown",
      "metadata": {
        "id": "DoJo3moyYFFZ"
      },
      "source": [
        "*   **Realizando pesquisa por webtoons pelo nome do autor**\n",
        "\n",
        "\n",
        "\n"
      ]
    },
    {
      "cell_type": "code",
      "metadata": {
        "colab": {
          "base_uri": "https://localhost:8080/"
        },
        "id": "2SvChCIjYC_r",
        "outputId": "afaa4d05-5144-4cf6-cb3d-66b19f471ee7"
      },
      "source": [
        "webtoons_list = list()\n",
        "erros = list()\n",
        "\n",
        "for author in autores_webtoons:\n",
        "  try:\n",
        "    wd.get(f'https://www.webtoons.com/en/search?searchMode=AUTHOR&keyword={author}')\n",
        "    wd.find_element_by_class_name('challenge_item').click()\n",
        "  except:\n",
        "    print(author)\n",
        "    erros.append(author)\n",
        "  else:\n",
        "    name = wd.find_elements_by_class_name('_challengeTitle')[0].text\n",
        "    info = [wd.find_element_by_xpath(f'//*[@id=\"_asideDetail\"]/ul/li[{i+1}]') for i in range(3)]\n",
        "    sub, views, rate = [i.find_element_by_tag_name('em').text for i in info]\n",
        "    genre = wd.find_elements_by_class_name('genre')\n",
        "    genre = [g.text for g in genre]\n",
        "    author = wd.find_elements_by_xpath('//*[@id=\"content\"]/div[2]/div[1]/div[1]/span')[0].text[:-11]\n",
        "    webtoons_list.append([author, name, sub, views, rate, '|'.join(genre)])"
      ],
      "execution_count": 3,
      "outputs": [
        {
          "output_type": "stream",
          "text": [
            "ntangnyun02\n",
            "angieowlie\n",
            "Derppyeat.Amaya\n",
            "elinjulove\n",
            "fatherseru\n",
            "godsstation\n",
            "Mifuta99\n",
            "Oriya\n",
            "soojung\n",
            "Takushika_S\n",
            "1001guys\n",
            "eliechoi\n",
            "forgottenuser\n",
            "Gmoo\n",
            "Hans69\n",
            "Himalayaa\n",
            "Huacaya\n",
            "kazumaru_\n",
            "Loibeepop\n",
            "Mhi-i-Tumani\n",
            "moealmighty\n",
            "peachkiwicomics\n",
            "pous__girl\n",
            "potato-chop\n",
            "purpuara.\n",
            "Serocchin\n",
            "-Solarist-\n",
            "Sparklekid\n",
            "the100worlds\n",
            "yanzsiha\n",
            "yaoi_lover_62389\n",
            "ActuallyOctopi\n",
            "AHMARA_SMITH_ART\n",
            "AnnaVivia\n",
            "arisarisa13\n",
            "asimpleyumi\n",
            "Beiikoku\n",
            "bibiyatch\n",
            "BritanyKeyesArt\n",
            "Bulbissi\n",
            "ntangnyun02\n",
            "Cokoro\n",
            "deo101\n",
            "elenchain\n",
            "enjoytheshow\n",
            "Erangot\n",
            "Ezaho-illness\n",
            "generablacko\n",
            "geogantart\n",
            "HannyCh012\n",
            "Haruou\n",
            "Hrphyartz\n",
            "HV95\n",
            "Hzhut\n",
            "kizokuzan\n",
            "kochu\n",
            "LannaEXP\n",
            "lobaart\n",
            "Maru_oOOo\n",
            "MathematicalMat\n",
            "MayuSenpai\n",
            "MSdas\n",
            "Nikkie Hale\n",
            "noufaro_\n",
            "Oneesama9\n",
            "pinkhara02\n",
            "Riv-Kun\n",
            "roowa\n",
            "SageFlamery\n",
            "SanmyMontoya\n",
            "shibarnu\n",
            "superstar_pixie\n",
            "Syppetoni\n",
            "tefostet09\n",
            "thatcmonster\n",
            "ThelzzyPeasy\n",
            "Tuyoyummy\n",
            "ZappZoth\n"
          ],
          "name": "stdout"
        }
      ]
    },
    {
      "cell_type": "code",
      "metadata": {
        "colab": {
          "base_uri": "https://localhost:8080/"
        },
        "id": "JHp79rcIy3Fm",
        "outputId": "56721dbc-f377-4a94-fbb0-8d6f9c895b58"
      },
      "source": [
        "header = [\"Author\", \"Webtoon\", \"Subscribed\", \"View\", \"Rate\", \"Genre\"]\n",
        "with open('webtoons.csv', 'w', encoding='UTF8', newline='') as f:\n",
        "    writer = csv.writer(f)\n",
        "    writer.writerow(header)\n",
        "    writer.writerows(webtoons_list)\n",
        "  \n",
        "print(erros)"
      ],
      "execution_count": 4,
      "outputs": [
        {
          "output_type": "stream",
          "text": [
            "['ntangnyun02', 'angieowlie', 'Derppyeat.Amaya', 'elinjulove', 'fatherseru', 'godsstation', 'Mifuta99', 'Oriya', 'soojung', 'Takushika_S', '1001guys', 'eliechoi', 'forgottenuser', 'Gmoo', 'Hans69', 'Himalayaa', 'Huacaya', 'kazumaru_', 'Loibeepop', 'Mhi-i-Tumani', 'moealmighty', 'peachkiwicomics', 'pous__girl', 'potato-chop', 'purpuara.', 'Serocchin', '-Solarist-', 'Sparklekid', 'the100worlds', 'yanzsiha', 'yaoi_lover_62389', 'ActuallyOctopi', 'AHMARA_SMITH_ART', 'AnnaVivia', 'arisarisa13', 'asimpleyumi', 'Beiikoku', 'bibiyatch', 'BritanyKeyesArt', 'Bulbissi', 'ntangnyun02', 'Cokoro', 'deo101', 'elenchain', 'enjoytheshow', 'Erangot', 'Ezaho-illness', 'generablacko', 'geogantart', 'HannyCh012', 'Haruou', 'Hrphyartz', 'HV95', 'Hzhut', 'kizokuzan', 'kochu', 'LannaEXP', 'lobaart', 'Maru_oOOo', 'MathematicalMat', 'MayuSenpai', 'MSdas', 'Nikkie Hale', 'noufaro_', 'Oneesama9', 'pinkhara02', 'Riv-Kun', 'roowa', 'SageFlamery', 'SanmyMontoya', 'shibarnu', 'superstar_pixie', 'Syppetoni', 'tefostet09', 'thatcmonster', 'ThelzzyPeasy', 'Tuyoyummy', 'ZappZoth']\n"
          ],
          "name": "stdout"
        }
      ]
    },
    {
      "cell_type": "code",
      "metadata": {
        "colab": {
          "base_uri": "https://localhost:8080/",
          "height": 419
        },
        "id": "VHKpSsLZ6gOI",
        "outputId": "fcca59d3-83ec-451f-c68f-1ca5f4bf386b"
      },
      "source": [
        "import pandas as pd\n",
        "data = pd.read_csv('webtoons.csv')\n",
        "data"
      ],
      "execution_count": 5,
      "outputs": [
        {
          "output_type": "execute_result",
          "data": {
            "text/html": [
              "<div>\n",
              "<style scoped>\n",
              "    .dataframe tbody tr th:only-of-type {\n",
              "        vertical-align: middle;\n",
              "    }\n",
              "\n",
              "    .dataframe tbody tr th {\n",
              "        vertical-align: top;\n",
              "    }\n",
              "\n",
              "    .dataframe thead th {\n",
              "        text-align: right;\n",
              "    }\n",
              "</style>\n",
              "<table border=\"1\" class=\"dataframe\">\n",
              "  <thead>\n",
              "    <tr style=\"text-align: right;\">\n",
              "      <th></th>\n",
              "      <th>Author</th>\n",
              "      <th>Webtoon</th>\n",
              "      <th>Subscribed</th>\n",
              "      <th>View</th>\n",
              "      <th>Rate</th>\n",
              "      <th>Genre</th>\n",
              "    </tr>\n",
              "  </thead>\n",
              "  <tbody>\n",
              "    <tr>\n",
              "      <th>0</th>\n",
              "      <td>Beimuyo</td>\n",
              "      <td>YOU ARE MY BFF (LGBTQ+)</td>\n",
              "      <td>252.6K</td>\n",
              "      <td>56M</td>\n",
              "      <td>9.53</td>\n",
              "      <td>Drama|Romance</td>\n",
              "    </tr>\n",
              "    <tr>\n",
              "      <th>1</th>\n",
              "      <td>cathy octo /erry</td>\n",
              "      <td>Maid for Hire</td>\n",
              "      <td>205.3K</td>\n",
              "      <td>13.9M</td>\n",
              "      <td>9.72</td>\n",
              "      <td>Romance|Comedy</td>\n",
              "    </tr>\n",
              "    <tr>\n",
              "      <th>2</th>\n",
              "      <td>cheruke</td>\n",
              "      <td>Domestic Beast</td>\n",
              "      <td>100.4K</td>\n",
              "      <td>8.3M</td>\n",
              "      <td>9.80</td>\n",
              "      <td>Fantasy|Slice of life</td>\n",
              "    </tr>\n",
              "    <tr>\n",
              "      <th>3</th>\n",
              "      <td>EmAuthor</td>\n",
              "      <td>Papa Ai</td>\n",
              "      <td>85.9K</td>\n",
              "      <td>6.7M</td>\n",
              "      <td>9.75</td>\n",
              "      <td>Comedy|Slice of life</td>\n",
              "    </tr>\n",
              "    <tr>\n",
              "      <th>4</th>\n",
              "      <td>Fawnduu</td>\n",
              "      <td>My Dragon Girlfriend</td>\n",
              "      <td>261.1K</td>\n",
              "      <td>90.2M</td>\n",
              "      <td>9.49</td>\n",
              "      <td>Romance|Slice of life</td>\n",
              "    </tr>\n",
              "    <tr>\n",
              "      <th>...</th>\n",
              "      <td>...</td>\n",
              "      <td>...</td>\n",
              "      <td>...</td>\n",
              "      <td>...</td>\n",
              "      <td>...</td>\n",
              "      <td>...</td>\n",
              "    </tr>\n",
              "    <tr>\n",
              "      <th>520</th>\n",
              "      <td>YenPham</td>\n",
              "      <td>Piece of Purple</td>\n",
              "      <td>1.8K</td>\n",
              "      <td>25.1K</td>\n",
              "      <td>9.97</td>\n",
              "      <td>Comedy|Slice of life</td>\n",
              "    </tr>\n",
              "    <tr>\n",
              "      <th>521</th>\n",
              "      <td>Yuz'ki</td>\n",
              "      <td>Bidding for Time</td>\n",
              "      <td>1.1K</td>\n",
              "      <td>14.4K</td>\n",
              "      <td>9.79</td>\n",
              "      <td>Short story|Fantasy</td>\n",
              "    </tr>\n",
              "    <tr>\n",
              "      <th>522</th>\n",
              "      <td>Zack Jordan</td>\n",
              "      <td>The Last Human (in a Crowded Galaxy)</td>\n",
              "      <td>28.9K</td>\n",
              "      <td>1.3M</td>\n",
              "      <td>9.65</td>\n",
              "      <td>Sci-fi|Heartwarming</td>\n",
              "    </tr>\n",
              "    <tr>\n",
              "      <th>523</th>\n",
              "      <td>ZC_Coffee</td>\n",
              "      <td>Victim. Gate of Spirits</td>\n",
              "      <td>62.1K</td>\n",
              "      <td>11.6M</td>\n",
              "      <td>9.08</td>\n",
              "      <td>Fantasy|Romance</td>\n",
              "    </tr>\n",
              "    <tr>\n",
              "      <th>524</th>\n",
              "      <td>zkoyllar</td>\n",
              "      <td>Camprul</td>\n",
              "      <td>33.7K</td>\n",
              "      <td>2.1M</td>\n",
              "      <td>9.43</td>\n",
              "      <td>Fantasy|Drama</td>\n",
              "    </tr>\n",
              "  </tbody>\n",
              "</table>\n",
              "<p>525 rows × 6 columns</p>\n",
              "</div>"
            ],
            "text/plain": [
              "               Author  ...                  Genre\n",
              "0             Beimuyo  ...          Drama|Romance\n",
              "1    cathy octo /erry  ...         Romance|Comedy\n",
              "2             cheruke  ...  Fantasy|Slice of life\n",
              "3            EmAuthor  ...   Comedy|Slice of life\n",
              "4             Fawnduu  ...  Romance|Slice of life\n",
              "..                ...  ...                    ...\n",
              "520           YenPham  ...   Comedy|Slice of life\n",
              "521            Yuz'ki  ...    Short story|Fantasy\n",
              "522       Zack Jordan  ...    Sci-fi|Heartwarming\n",
              "523         ZC_Coffee  ...        Fantasy|Romance\n",
              "524          zkoyllar  ...          Fantasy|Drama\n",
              "\n",
              "[525 rows x 6 columns]"
            ]
          },
          "metadata": {
            "tags": []
          },
          "execution_count": 5
        }
      ]
    }
  ]
}