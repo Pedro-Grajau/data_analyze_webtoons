{
  "nbformat": 4,
  "nbformat_minor": 0,
  "metadata": {
    "colab": {
      "name": "Webtoons.ipynb",
      "provenance": [],
      "collapsed_sections": [],
      "include_colab_link": true
    },
    "kernelspec": {
      "name": "python3",
      "display_name": "Python 3"
    },
    "language_info": {
      "name": "python"
    }
  },
  "cells": [
    {
      "cell_type": "markdown",
      "metadata": {
        "id": "view-in-github",
        "colab_type": "text"
      },
      "source": [
        "<a href=\"https://colab.research.google.com/github/Pedro-Grajau/data_analyze_webtoons/blob/main/Webtoons.ipynb\" target=\"_parent\"><img src=\"https://colab.research.google.com/assets/colab-badge.svg\" alt=\"Open In Colab\"/></a>"
      ]
    },
    {
      "cell_type": "markdown",
      "metadata": {
        "id": "85QLGagt2nJk"
      },
      "source": [
        "\n",
        "\n",
        "*   **Realizando a instalação de dependências necessárias**\n",
        "\n"
      ]
    },
    {
      "cell_type": "code",
      "metadata": {
        "id": "3qVBE6Yv2Vhw",
        "colab": {
          "base_uri": "https://localhost:8080/"
        },
        "outputId": "961ce893-dc3e-497b-a4cf-34dd4bac0b07"
      },
      "source": [
        "!pip install kora -q"
      ],
      "execution_count": 1,
      "outputs": [
        {
          "output_type": "stream",
          "text": [
            "\u001b[K     |████████████████████████████████| 61kB 5.1MB/s \n",
            "\u001b[K     |████████████████████████████████| 61kB 7.1MB/s \n",
            "\u001b[?25h"
          ],
          "name": "stdout"
        }
      ]
    },
    {
      "cell_type": "markdown",
      "metadata": {
        "id": "L_WAoEQb1GwK"
      },
      "source": [
        "* **Importando a lista de autores de Webtoons em txt**"
      ]
    },
    {
      "cell_type": "code",
      "metadata": {
        "id": "hZfSKxXY1BSs"
      },
      "source": [
        "from kora.selenium import wd\n",
        "import csv\n",
        "autores_txt = open(\"autores_webtoons.txt\", \"r\")\n",
        "autores_webtoons = [x.strip() for x in autores_txt.readlines()]\n",
        "#print(autores_webtoons)"
      ],
      "execution_count": 6,
      "outputs": []
    },
    {
      "cell_type": "markdown",
      "metadata": {
        "id": "DoJo3moyYFFZ"
      },
      "source": [
        "*   **Realizando pesquisa por webtoons pelo nome do autor**\n",
        "\n",
        "\n",
        "\n"
      ]
    },
    {
      "cell_type": "code",
      "metadata": {
        "id": "2SvChCIjYC_r"
      },
      "source": [
        "webtoons_list = list()\n",
        "erros = list()\n",
        "\n",
        "for author in autores_webtoons:\n",
        "  try:\n",
        "    wd.get(f'https://www.webtoons.com/en/search?searchMode=AUTHOR&keyword={author}')\n",
        "    wd.find_element_by_class_name('challenge_item').click()\n",
        "  except:\n",
        "    #print(author)\n",
        "    erros.append(autores_webtoons.index(author))\n",
        "    print(autores_webtoons.index(author))\n",
        "  else:\n",
        "    name = wd.find_elements_by_class_name('_challengeTitle')[0].text\n",
        "    info = [wd.find_element_by_xpath(f'//*[@id=\"_asideDetail\"]/ul/li[{i+1}]') for i in range(3)]\n",
        "    sub, views, rate = [i.find_element_by_tag_name('em').text for i in info]\n",
        "    genre = wd.find_elements_by_class_name('genre')\n",
        "    genre = [g.text for g in genre]\n",
        "    author = wd.find_elements_by_xpath('//*[@id=\"content\"]/div[2]/div[1]/div[1]/span')[0].text[:-11]\n",
        "    webtoons_list.append([author, name, sub, views, rate, '|'.join(genre)])"
      ],
      "execution_count": 7,
      "outputs": []
    },
    {
      "cell_type": "markdown",
      "metadata": {
        "id": "HThMTLKjYQd0"
      },
      "source": [
        "*   **Guardando as informações em um csv**\n"
      ]
    },
    {
      "cell_type": "code",
      "metadata": {
        "id": "JHp79rcIy3Fm"
      },
      "source": [
        "header = [\"Author\", \"Webtoon\", \"Subscribed\", \"View\", \"Rate\", \"Genre\"]\n",
        "with open('webtoons.csv', 'w', encoding='UTF8', newline='') as f:\n",
        "    writer = csv.writer(f)\n",
        "    writer.writerow(header)\n",
        "    writer.writerows(webtoons_list)"
      ],
      "execution_count": 5,
      "outputs": []
    },
    {
      "cell_type": "markdown",
      "metadata": {
        "id": "OA3SmQJWYbCS"
      },
      "source": [
        "*   **Visualizando os dados obtidos**"
      ]
    },
    {
      "cell_type": "code",
      "metadata": {
        "colab": {
          "base_uri": "https://localhost:8080/",
          "height": 669
        },
        "id": "VHKpSsLZ6gOI",
        "outputId": "b488c1d0-1897-4579-c865-b7940010fb58"
      },
      "source": [
        "import pandas as pd\n",
        "data = pd.read_csv('webtoons.csv')\n",
        "\n",
        "#Adicionando coluna prêmio relacionado a obra\n",
        "payments_txt = open(\"pagamento.txt\", \"r\")\n",
        "payments = [x.strip() for x in payments_txt.readlines()]\n",
        "data['Payments'] = payments\n",
        "\n",
        "data.head(20)"
      ],
      "execution_count": 11,
      "outputs": [
        {
          "output_type": "execute_result",
          "data": {
            "text/html": [
              "<div>\n",
              "<style scoped>\n",
              "    .dataframe tbody tr th:only-of-type {\n",
              "        vertical-align: middle;\n",
              "    }\n",
              "\n",
              "    .dataframe tbody tr th {\n",
              "        vertical-align: top;\n",
              "    }\n",
              "\n",
              "    .dataframe thead th {\n",
              "        text-align: right;\n",
              "    }\n",
              "</style>\n",
              "<table border=\"1\" class=\"dataframe\">\n",
              "  <thead>\n",
              "    <tr style=\"text-align: right;\">\n",
              "      <th></th>\n",
              "      <th>Author</th>\n",
              "      <th>Webtoon</th>\n",
              "      <th>Subscribed</th>\n",
              "      <th>View</th>\n",
              "      <th>Rate</th>\n",
              "      <th>Genre</th>\n",
              "      <th>Payments</th>\n",
              "    </tr>\n",
              "  </thead>\n",
              "  <tbody>\n",
              "    <tr>\n",
              "      <th>0</th>\n",
              "      <td>Beimuyo</td>\n",
              "      <td>YOU ARE MY BFF (LGBTQ+)</td>\n",
              "      <td>252.6K</td>\n",
              "      <td>56M</td>\n",
              "      <td>9.53</td>\n",
              "      <td>Drama|Romance</td>\n",
              "      <td>1000</td>\n",
              "    </tr>\n",
              "    <tr>\n",
              "      <th>1</th>\n",
              "      <td>cathy octo /erry</td>\n",
              "      <td>Maid for Hire</td>\n",
              "      <td>205.3K</td>\n",
              "      <td>13.9M</td>\n",
              "      <td>9.72</td>\n",
              "      <td>Romance|Comedy</td>\n",
              "      <td>1000</td>\n",
              "    </tr>\n",
              "    <tr>\n",
              "      <th>2</th>\n",
              "      <td>cheruke</td>\n",
              "      <td>Domestic Beast</td>\n",
              "      <td>100.4K</td>\n",
              "      <td>8.3M</td>\n",
              "      <td>9.80</td>\n",
              "      <td>Fantasy|Slice of life</td>\n",
              "      <td>1000</td>\n",
              "    </tr>\n",
              "    <tr>\n",
              "      <th>3</th>\n",
              "      <td>EmAuthor</td>\n",
              "      <td>Papa Ai</td>\n",
              "      <td>85.9K</td>\n",
              "      <td>6.7M</td>\n",
              "      <td>9.75</td>\n",
              "      <td>Comedy|Slice of life</td>\n",
              "      <td>1000</td>\n",
              "    </tr>\n",
              "    <tr>\n",
              "      <th>4</th>\n",
              "      <td>Fawnduu</td>\n",
              "      <td>My Dragon Girlfriend</td>\n",
              "      <td>261.3K</td>\n",
              "      <td>90.3M</td>\n",
              "      <td>9.49</td>\n",
              "      <td>Romance|Slice of life</td>\n",
              "      <td>1000</td>\n",
              "    </tr>\n",
              "    <tr>\n",
              "      <th>5</th>\n",
              "      <td>Fuzzzzyy</td>\n",
              "      <td>Out of Sight, Out of Body</td>\n",
              "      <td>188.6K</td>\n",
              "      <td>19.4M</td>\n",
              "      <td>9.80</td>\n",
              "      <td>Romance|Supernatural</td>\n",
              "      <td>1000</td>\n",
              "    </tr>\n",
              "    <tr>\n",
              "      <th>6</th>\n",
              "      <td>Kirinu</td>\n",
              "      <td>Love n Life</td>\n",
              "      <td>673.2K</td>\n",
              "      <td>70M</td>\n",
              "      <td>9.28</td>\n",
              "      <td>Romance|Fantasy</td>\n",
              "      <td>1000</td>\n",
              "    </tr>\n",
              "    <tr>\n",
              "      <th>7</th>\n",
              "      <td>loonytwin</td>\n",
              "      <td>EYES ON ME</td>\n",
              "      <td>919K</td>\n",
              "      <td>225.5M</td>\n",
              "      <td>9.47</td>\n",
              "      <td>Romance|Drama</td>\n",
              "      <td>1000</td>\n",
              "    </tr>\n",
              "    <tr>\n",
              "      <th>8</th>\n",
              "      <td>Merryweatherey</td>\n",
              "      <td>Clinic of Horrors</td>\n",
              "      <td>724.8K</td>\n",
              "      <td>54.6M</td>\n",
              "      <td>9.72</td>\n",
              "      <td>Comedy|Horror</td>\n",
              "      <td>1000</td>\n",
              "    </tr>\n",
              "    <tr>\n",
              "      <th>9</th>\n",
              "      <td>misterrico</td>\n",
              "      <td>Scripted Love</td>\n",
              "      <td>157.8K</td>\n",
              "      <td>42.3M</td>\n",
              "      <td>9.68</td>\n",
              "      <td>Comedy|Romance</td>\n",
              "      <td>1000</td>\n",
              "    </tr>\n",
              "    <tr>\n",
              "      <th>10</th>\n",
              "      <td>Mr. Circus Papa</td>\n",
              "      <td>Ghost Eyes</td>\n",
              "      <td>292.3K</td>\n",
              "      <td>122.7M</td>\n",
              "      <td>9.63</td>\n",
              "      <td>Horror|Supernatural</td>\n",
              "      <td>1000</td>\n",
              "    </tr>\n",
              "    <tr>\n",
              "      <th>11</th>\n",
              "      <td>Pet Foolery</td>\n",
              "      <td>Pixie and Brutus</td>\n",
              "      <td>679.6K</td>\n",
              "      <td>58.9M</td>\n",
              "      <td>9.87</td>\n",
              "      <td>Comedy|Heartwarming</td>\n",
              "      <td>1000</td>\n",
              "    </tr>\n",
              "    <tr>\n",
              "      <th>12</th>\n",
              "      <td>privateseru</td>\n",
              "      <td>Private Affairs</td>\n",
              "      <td>168.2K</td>\n",
              "      <td>25M</td>\n",
              "      <td>9.78</td>\n",
              "      <td>Romance|Drama</td>\n",
              "      <td>1000</td>\n",
              "    </tr>\n",
              "    <tr>\n",
              "      <th>13</th>\n",
              "      <td>Sakurada Yana</td>\n",
              "      <td>My Weird Roommate</td>\n",
              "      <td>467.5K</td>\n",
              "      <td>127.2M</td>\n",
              "      <td>9.57</td>\n",
              "      <td>Slice of life|Romance</td>\n",
              "      <td>1000</td>\n",
              "    </tr>\n",
              "    <tr>\n",
              "      <th>14</th>\n",
              "      <td>SomeBunny</td>\n",
              "      <td>That Awkward Magic!!</td>\n",
              "      <td>669K</td>\n",
              "      <td>123.1M</td>\n",
              "      <td>9.76</td>\n",
              "      <td>Romance|Fantasy</td>\n",
              "      <td>1000</td>\n",
              "    </tr>\n",
              "    <tr>\n",
              "      <th>15</th>\n",
              "      <td>theyaoiarmy</td>\n",
              "      <td>All You Can Eat</td>\n",
              "      <td>184.6K</td>\n",
              "      <td>32.2M</td>\n",
              "      <td>9.74</td>\n",
              "      <td>Drama|Romance</td>\n",
              "      <td>1000</td>\n",
              "    </tr>\n",
              "    <tr>\n",
              "      <th>16</th>\n",
              "      <td>Aho Hansei</td>\n",
              "      <td>(BL)ACK</td>\n",
              "      <td>259K</td>\n",
              "      <td>29.8M</td>\n",
              "      <td>9.35</td>\n",
              "      <td>Comedy|Romance</td>\n",
              "      <td>800</td>\n",
              "    </tr>\n",
              "    <tr>\n",
              "      <th>17</th>\n",
              "      <td>Luigoz</td>\n",
              "      <td>Unexplainable</td>\n",
              "      <td>3</td>\n",
              "      <td>45</td>\n",
              "      <td>10.00</td>\n",
              "      <td>Horror|Crime/Mystery</td>\n",
              "      <td>800</td>\n",
              "    </tr>\n",
              "    <tr>\n",
              "      <th>18</th>\n",
              "      <td>Alice Oseman</td>\n",
              "      <td>Heartstopper</td>\n",
              "      <td>225K</td>\n",
              "      <td>35.5M</td>\n",
              "      <td>9.92</td>\n",
              "      <td>Romance|School</td>\n",
              "      <td>800</td>\n",
              "    </tr>\n",
              "    <tr>\n",
              "      <th>19</th>\n",
              "      <td>Koko Art</td>\n",
              "      <td>Pollination</td>\n",
              "      <td>24</td>\n",
              "      <td>468</td>\n",
              "      <td>10.00</td>\n",
              "      <td>Romance|Drama</td>\n",
              "      <td>800</td>\n",
              "    </tr>\n",
              "  </tbody>\n",
              "</table>\n",
              "</div>"
            ],
            "text/plain": [
              "              Author                    Webtoon  ...                  Genre Payments\n",
              "0            Beimuyo    YOU ARE MY BFF (LGBTQ+)  ...          Drama|Romance     1000\n",
              "1   cathy octo /erry              Maid for Hire  ...         Romance|Comedy     1000\n",
              "2            cheruke             Domestic Beast  ...  Fantasy|Slice of life     1000\n",
              "3           EmAuthor                    Papa Ai  ...   Comedy|Slice of life     1000\n",
              "4            Fawnduu       My Dragon Girlfriend  ...  Romance|Slice of life     1000\n",
              "5           Fuzzzzyy  Out of Sight, Out of Body  ...   Romance|Supernatural     1000\n",
              "6             Kirinu                Love n Life  ...        Romance|Fantasy     1000\n",
              "7          loonytwin                 EYES ON ME  ...          Romance|Drama     1000\n",
              "8     Merryweatherey          Clinic of Horrors  ...          Comedy|Horror     1000\n",
              "9         misterrico              Scripted Love  ...         Comedy|Romance     1000\n",
              "10   Mr. Circus Papa                 Ghost Eyes  ...    Horror|Supernatural     1000\n",
              "11       Pet Foolery           Pixie and Brutus  ...    Comedy|Heartwarming     1000\n",
              "12       privateseru            Private Affairs  ...          Romance|Drama     1000\n",
              "13     Sakurada Yana          My Weird Roommate  ...  Slice of life|Romance     1000\n",
              "14         SomeBunny       That Awkward Magic!!  ...        Romance|Fantasy     1000\n",
              "15       theyaoiarmy            All You Can Eat  ...          Drama|Romance     1000\n",
              "16        Aho Hansei                    (BL)ACK  ...         Comedy|Romance      800\n",
              "17            Luigoz              Unexplainable  ...   Horror|Crime/Mystery      800\n",
              "18      Alice Oseman               Heartstopper  ...         Romance|School      800\n",
              "19          Koko Art                Pollination  ...          Romance|Drama      800\n",
              "\n",
              "[20 rows x 7 columns]"
            ]
          },
          "metadata": {
            "tags": []
          },
          "execution_count": 11
        }
      ]
    }
  ]
}